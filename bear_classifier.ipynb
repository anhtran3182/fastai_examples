{
  "nbformat": 4,
  "nbformat_minor": 0,
  "metadata": {
    "colab": {
      "provenance": []
    },
    "kernelspec": {
      "name": "python3",
      "display_name": "Python 3"
    },
    "language_info": {
      "name": "python"
    },
    "widgets": {
      "application/vnd.jupyter.widget-state+json": {
        "76b9c69ffbe94129bdce16c737ee3b1d": {
          "model_module": "@jupyter-widgets/controls",
          "model_name": "VBoxModel",
          "model_module_version": "1.5.0",
          "state": {
            "_dom_classes": [],
            "_model_module": "@jupyter-widgets/controls",
            "_model_module_version": "1.5.0",
            "_model_name": "VBoxModel",
            "_view_count": null,
            "_view_module": "@jupyter-widgets/controls",
            "_view_module_version": "1.5.0",
            "_view_name": "VBoxView",
            "box_style": "",
            "children": [
              "IPY_MODEL_de04e91cc94146b38b1e5ffaddb329dc",
              "IPY_MODEL_510b2ed1bf1e488d9bc29ed650ef4118",
              "IPY_MODEL_607d2486e07c4eca8e52aa34d50cbae2",
              "IPY_MODEL_c44adf0dd7444fa4a0b15fadfb3ef68a",
              "IPY_MODEL_d955313b5cbc4bdc883c8654ab1d5bb2"
            ],
            "layout": "IPY_MODEL_2bfd3d35b2d442c9b2d1d64c5141dde3"
          }
        },
        "de04e91cc94146b38b1e5ffaddb329dc": {
          "model_module": "@jupyter-widgets/controls",
          "model_name": "LabelModel",
          "model_module_version": "1.5.0",
          "state": {
            "_dom_classes": [],
            "_model_module": "@jupyter-widgets/controls",
            "_model_module_version": "1.5.0",
            "_model_name": "LabelModel",
            "_view_count": null,
            "_view_module": "@jupyter-widgets/controls",
            "_view_module_version": "1.5.0",
            "_view_name": "LabelView",
            "description": "",
            "description_tooltip": null,
            "layout": "IPY_MODEL_58a7d315c0454df1a5bdd397c173c0f0",
            "placeholder": "​",
            "style": "IPY_MODEL_3c38d5825ab54663bd9c08e06a136579",
            "value": "Select your bear!"
          }
        },
        "510b2ed1bf1e488d9bc29ed650ef4118": {
          "model_module": "@jupyter-widgets/controls",
          "model_name": "FileUploadModel",
          "model_module_version": "1.5.0",
          "state": {
            "_counter": 2,
            "_dom_classes": [],
            "_model_module": "@jupyter-widgets/controls",
            "_model_module_version": "1.5.0",
            "_model_name": "FileUploadModel",
            "_view_count": null,
            "_view_module": "@jupyter-widgets/controls",
            "_view_module_version": "1.5.0",
            "_view_name": "FileUploadView",
            "accept": "",
            "button_style": "",
            "data": [
              null
            ],
            "description": "Upload",
            "description_tooltip": null,
            "disabled": false,
            "error": "",
            "icon": "upload",
            "layout": "IPY_MODEL_f343e1259b61494d8012b606bcc2552a",
            "metadata": [
              {
                "name": "chap2_teddy_example.jpeg",
                "type": "image/jpeg",
                "size": 6010,
                "lastModified": 1674617046943
              }
            ],
            "multiple": false,
            "style": "IPY_MODEL_822536bb6ae348a28776e029e8a328d0"
          }
        },
        "607d2486e07c4eca8e52aa34d50cbae2": {
          "model_module": "@jupyter-widgets/controls",
          "model_name": "ButtonModel",
          "model_module_version": "1.5.0",
          "state": {
            "_dom_classes": [],
            "_model_module": "@jupyter-widgets/controls",
            "_model_module_version": "1.5.0",
            "_model_name": "ButtonModel",
            "_view_count": null,
            "_view_module": "@jupyter-widgets/controls",
            "_view_module_version": "1.5.0",
            "_view_name": "ButtonView",
            "button_style": "",
            "description": "Classify",
            "disabled": false,
            "icon": "",
            "layout": "IPY_MODEL_cc40494fc997410c9c4fbe61131bd8ba",
            "style": "IPY_MODEL_01b7c925fec64291a84dc384c7228a4d",
            "tooltip": ""
          }
        },
        "c44adf0dd7444fa4a0b15fadfb3ef68a": {
          "model_module": "@jupyter-widgets/output",
          "model_name": "OutputModel",
          "model_module_version": "1.0.0",
          "state": {
            "_dom_classes": [],
            "_model_module": "@jupyter-widgets/output",
            "_model_module_version": "1.0.0",
            "_model_name": "OutputModel",
            "_view_count": null,
            "_view_module": "@jupyter-widgets/output",
            "_view_module_version": "1.0.0",
            "_view_name": "OutputView",
            "layout": "IPY_MODEL_e117445f213242d8a701e82dae1312bb",
            "msg_id": "",
            "outputs": [
              {
                "output_type": "display_data",
                "data": {
                  "text/plain": "<PIL.Image.Image image mode=RGB size=128x72>",
                  "image/png": "iVBORw0KGgoAAAANSUhEUgAAAIAAAABICAIAAACx52pFAAA9CklEQVR4nK292bNmWXYftNbae5/hm+58c86auoaeqnpSS8KyLYewsdUCY4OJEAaHkR1WEPDICw8ETxieiODBT/APELKJsAIDYWwTLWHL6ra6pe6u7uquKbNyuHnnbzrD3nsNPJybt25mVQtJ9o6MjPOd75zv3G+tvabfGj787/7OX0FEIiKiywMzIyLnnJkBABEBwHCAiACAiIhoaAYGqGRABIRAANGTIoIhGaIhKJhBQgMwBCVEhwBgAJbBgwGCkhmCIIAzLVUSOHUlCwKoByFUVBMzAROwZbtKKW7PtqpQKnNwXkXQAAAEwRAAgAwAAAEAABXAzMwMDAzMTEEZsn1igaKZgZqZoRkAqJngxV0X1wCo6uVLRLw4AAeAqgoAw2Vw+VgAVb24C0wJh5d93zOzv6Qm/AmXAYAhGJCBKSAaIAACoBmoggEaeFUDQDBEAEQEQwNCADACQDMEIDAwywZKrmc1dIRkZl6VLr6JIiiJkIqZKpgMdw3ENhg4O/z/MRUAho1iNvxNF5tqeOcT/658q3+j64LCVz53YI8fNvWflAeGaAZggIakgIhkoHRBBTVTUAOzgQEXmxIRABQQL8TC0IzA0AyJIrrIMNrcHk1mKfbtah5jE8yGz0NTp+yFQVUMxMwZAiKqmRkZgtnw+aCgYICoeHX/gxmYgQMCMzCF4RZTUEMDM1C4IJT9G2XDFfI+Ix9+kKOrF12euTy4fPncZRdbH8mAFAmAkBw6p6JggiZmhghmSmZE3gBYQIAAERBFEQAJ1JM3BFDJLG46eeWlV6db+74cde06tqt+eX7+5NF6tSjIEwAoOgVnhEbOXI45eD+qx7PJlLt+Npudz+cn52fkHHqvKoROwUR4UE8GYGo557IoDEmUVRQAC19IipmFvGNTo6dfnOWPy4ZPbuVBUyEgECAAEYkIMzvn/NWLPlUI/hDJQDNABaCBmopkisHXmztbo7rou/XpyWHfrYP3iGqKhi6MRlU1NnJIfjrbKMuirgrl3K1X69VS2ub2q69eu/3i2aprVy0Cga+r7eLFnWvz0+PDB/c4NkglgEqU4HFcT/d39/Z2diajUVXV3Efn3MnZ2XLx+1lFsgDhOFRFKKqqRKRBRztC5Xx2eppSqnx156U7N27cNJWz4yf3H350tpizCHoyIlClQbv9idZzG3eQ/6uWwznn8RPrj/OIi02liKzmyuLV197Yu/5yXU/AuGnmN9vVweOPjg4PEGE0nu5dvznb3jMqlAKgA0JhlhwJbLK5V+e0a1KPq/OmX/aSlYgguAIQnC82bkxmm7uLJ4/e+/7vExbewt5o83Of+9ykrgFAUs7LrihCoGJve/drX/3aomso+PFsuuErB0SOAGBgABEBSdd1q9UqhGJnZ9vMUt9PSn/jxvWHh0/ev//hk5PjYlSRI1D5k1H/pxDsY3vunCMi/xzpn2faH7rwqdUThc2dvc9+8UvTjc0ml8uoOcac1IXRi298YffOXYdUVCMj17MlRUNvSCKiCmoOQQkIgwPl00WDvsysfRJAKDw5Vy7W/Szo7mRW362fPDk6P7jvvX/h9m0SzW1XlxUqcExNnzD06NzO1u7+zVvmMObku4wGg5FAVQAzFVZGw83phgG061bNJKcCxdSu718P43Hx8MGiXZ8dHY1dsD8iOf7oXDBTVUR8RgVdOkxXhWDg1aUbOqyn1yCSoWk28sXslde+7Oqt8y4nJwwWU07R6kkF9YiryktgARYWEwJFAwAd9JaiIiCaKWsWUzeqHDjux8GabIuVWKhkLW++PDk5fmzbd258+d86OLo/3a2hAoUIjMzRAEBzorIsRkVZAqD2piZOkZAM9MKPJTVTUwtZSJVNkEjNWBhBs8ae3cOjOY2mX/zan1um9tv//Ldkce4IU986GpwHQSAzurDmMNhwU7Or1vUq9a4QHgDROx9jFBERKcvyGcr+cZeIqSsz+P1bL2zu3WyZOvGt2tl6te77UBRlKIjBM6oAq4mCGqihGqiBqImqXLjVoGaD55FTVgNDKouSVDzwC3durmPy1agMfloVN69f35jOApBTkJTbVbOaL0F1Nh6PR3VVBIcIKqiKpiqqIiqqqsIszCpiT59lF945iEoT+yb24N2NO7f61JnxV77ypbIomTmE8K9DqCvrQv+oalEU9NzW/mMtBFDyych8vXX9zvEqnvd60snhfH1wctpz2ticViEQW5Cghqw28EB04AGKAquxAhuIDX4gmmqMWc0hemWejkpp5sv5kfhqtnsjtasP3v79s6PDgF77GJu2W637pi2Cr6uaCB2BCgsnMAUTMDUREzVVZVEWYVGWp/HW4CTDcODr2hVhNB2fnBz1/bqu/e1bN2/cuKGmzrl/jVDpCsngYxtQFMXzXhBchrifUHqXj//YSQUzgywwmc2UwrKJS4Fl37epdWrbt3fJIaqhkSmxsRooIJAjRBFRVQEwICBQBe99SsyZgyNzQc36yAS6VZXQd8v50Wp69+zo/PTBe7Y+axeLrumj6wxdatrxaFTUtRAAaOw7fNaBNjMQNRBQMVMwNQMxAiRCMgQDoMEtprSYnzL6a7fvhEllTn7/O//q/kf3wUxFAS50DCIifEyN5/XMlXX51jMHeHHsnBMRf/WGP9wL+uRbZuIJi+ARUNRi1j5rauWF6/vTemQWRY3NZ0UGM4OLhw8qQURQYfhjRBE1ZTE1jwpArGYKAcFie21W9n37zr2H68XyZuh9WpdE66btqlrQo6dqNllzRPIlB1AhQgBQMyREQBURETMxG0I3NRsccjLCQRTUEJHaRQMsqtqenY+4/vbv/+7779+rQl1XpZoMew4vVPwfQxqumoTh2cw8QD7PM+CPuxwYOYvtumtWVG6J5K5vN6rJta19yJ1YUsOklJTsqboVkcx5kABzOPBEWXLinKUKXjmxkaiBmCAbpjK4na3xwydG1SSujub33k1Rj05Ox2UxKsrtjU2rQubIJsjZGajRpZuBiJBNVVXZQJGGPwMYPKACoZqxqZiB5QLcpKgSw/rk9O0/+PD0/Mn2dGxUa07OkyqbmpnCRdytfzKiqSozF0WBRCriAa5+0AWK85woPCdil28RIpq26/PDg/tbd2tlVnU393ZLgpx4iHmymZiayQASpMw5q4iqKngFHIAzU+bM2aEJJ0WnBmQqoNm0SzIezW7tuEf37i3Ojl0R0PjJyeH2xqTcKoqqjjm54BmURVSJjMHMTJ2jrCqSBmWPaKCgpgZICEAOjFjFDFSVU4SYOWVmdQgesPRFypKhD96pXLgICANMd6FPfprC+GlKiQiNVVlC7QcEzCMyIiEOmBgAIJEjqi7Z9ak8vHgMOgBwmM+O3qdR7cvro3JzY+JE5r26ZBUoojJZlzWJaVnUbUxgpEqqiMqmAmoI0DZtGYo+RuPWOxccEYGArdX1GbcE74aW+ejDxYkPZW8SsvZdt/XSpidEw77tyTvBQtmIxVhUBRyKA7a1dHFSjlBMDMA7cJTiyhyp96KG5qRLfdPlPjWxpcJNNiaJWcATYYloqhe0RmcwhNMGlwbmSvD06Ur/CjMQkBTIwAGimAP8FBVk9lMZ+Dx7h2gAzGtqTg+2b+9sbhXORBXNQESZGU1AcuLkfVi1rWa78DzVjJOKmkqOmQzE2IQdoSkqAlxgYyYiOWevcPPWncX56XxxpCJFUU03NkJZZmZHJCKI4KwnvsAAWa0XFcKxn4I46r3FfhR87lMXO6dOHGFpoSgyS25Zk+acnXOj8RhpgArUgAYv//JbX6XMVeJ+Kt2fu2VQjMNTBv/TzD7dBvwRGTCIJIKWDvP6ZHXw3guvTJxNWWGISwgdAqADbmOOCZHWq4b5QuoV2uB8WRQe3W//1jd/+P23f+7nv/6zP/tleOogggKYEWGz7kqyuig3NjZPzg5VAApKwn2Mk6JUEWMZzBuwgZCZi2wR3Xe+97b0+fUXX9it6xpoPKpGAR2StMZI6yjL9bJJGQGrEJyji+jKTHXQOWpIV6nxyUD1OX78IRIwMICZvfdD0uWCAc+YrAvCXtxzmYG5fPZV8zD8qWQy6LKjBx+89spnyaZqKGKcTVQDweHh0T/4jb9f+PCXvvEN59zuztb21lbOiTD2fR+7/tGDB7/1z/7JcrF4+cXbRF8vgic0E2aJNiQU0NBc5pgiCyuzKgAVvs+xAPRIDpBzZjBnaDawwz0+OPhff+N/a0z/y7/zt19/8/NjtNoDIQfdctmvcnz84P7vvffO//PPf/fzn//sL/zMz1SqWbJ25s0751QV6Bkk7uqO/iRlP7lHr7JkoGRKCQBCCEN+BgA+VQLsk58FnyoWpggGoCpqrtjc2nahFDW0IU2CXdsl1BTzB++9J8y//Mt/8UtvfXFwSIQNVCb1GDdHN3Y3fu1v/seHT558+ctfUTEGcYSSGQBiykllczJSVY45pWwGnLVpuz4nNWMRNM05AyH58DSzAGh65+a1b/z5X6xv7f873/gljJFUGZXFVM04So37L924FdfNP/vt6ea4KH0hZd+mrusCFCJiZgj0ya9/layXuOYniXP15LB3L/l0NdL6dBV0kT4BgCGH9VMYgGqArKAKIIjoyogFGl0mXli0rItr+9d+9Vf/2t7ezle+8gXVjiWJZEAliWbmkDzZX/oLvxj7/snhyTpZEXzXNcrJERI6H5wZZpbcp/PzBWfxPnSxX7etmKYUi1DVZZlSSuqQvAM1EIcGKn/1G//21p39uDotwQV0mVnARNVya0pe9IuvvPhf/xe/VvkiGEUAVc2SLRrnDBfg2HMSYFcpfpEoerqdrxBQ4VlFNFxz9UozQ/yEEX6qXhguvNHLzx081Gd8LzMEdAhmoIjQ9W0f+6oYGSABOINRWUtOoQpf//k/vbU5yZIBsuSUE6/Xq+BkNKpUhRBi35qqao7Jck6DbKFBWZS1J9IImrt2cXj4MHFPwaHKerFWI0UX1SxFRAIQEDAhYycqvea90UjnbYXoQNFh6cJ6ft7FvjBjiIwaU789KbtF40ItUZARMjSxaWPMBGhMl7rlct+amYFd7mX4WC9dXZ+UmCEVPOjwS5n49EjYjJ8eX6o2QgzPiwJ6M08oiACQSWO/PJ3MNkQgGBGSmGBwIVCXqEyEKA61a9P58TL4stNG1dVl6chS1pz7UFaro/MiBAIriwBIYpY5V5aJeH7+JOW1AuZsJdLjR0erV/rJ7l6OKfjCG4J0KAhSC/uerdrcwKLiXhSRHSAoiLBpyuzCrE9LV1HTt45w3q1qNmEgIxJYLhcxRa2dKYcr9L/4+h/n5K/EAXZlq16Bba6eGSxwWZbD8eAIPcOAn2ZMnn7KczyGAcEcUq2qDKRHTx5u7u2juQClIz8qkBwwx7LcQOc4o6Fj81hUP3znJ1ub7vq16816BSaSk4mGULlQJM5VEUQV2BCR0XoRUvno0UEX2QXPaEq2Wi0+ePDR3ta2EyEFr6CoYIiaDSygQU7c9aCgamyKhGKasr7/8HFs733py58HSGbYNin21rUrMUQTgdy169KjcBbASw1kT4+eqZK41PL2PGIPV1SQiAy7/jmv6RkGPMeuT5z8FMd08NkAAA08OfK4OD04OjnZ2LkF4MiVrvTogPu1J8h9Z2ZZNGVwvgxlff36tZw19swcQcUhOE/k/OCDZhbzBKzOEyg2i9XB0YkisZgCZK9K7v7BwesvvrTrSy/mVYXUAFAzgbGpZrOYGTGLpszZVAwMce/W3RxTElicnpu6k5NVTLaxt1Nuj1zmxx9+sGrXGxsTyArOZbzwF59xTT7BgI9LDq7QzZ69bFBB8OzH+MtLrybiL73U4boB3vo0DhkiIBBCADXLvQd474P7n9t+QRmcQShHSXOvbiKdAx/7HFNOOXVdc+v2jeDD0eGpqXJOBFqXRbPu2z45ROec8ICgIZpC5t///g+bmIMjUcsqxlB4d3Ry+vbbb3/tlVen4zEwk9mgYxyFyvl1n5dn5/Vs0xNFBTNihSTKaoH8yfEZCvRdbiK89uaXr7/8Ak7RZ7794gs9p6Mnj4kIBszOVJ7moOBpEc1zpLhy7lPCMUT03vd975zz3l8agOdtwB93DeVLpIBDvY9lT9bNHz9453uvv/EFg5jWayR1aW0pmS8wo1cCg55zyu3xClTYVDzBdDwmwvOzhSH5okg5eufEFERU4OjxwY/f/7AkA0QFzAqOoG96E/nxO+/CfPWzn399s66RNRAFhyI9QVGgX56cpZ5nW9sWhVwwMRWnAgYJk8UunsyXL3/uzbtvfnnOfZa2UCxmW9df/WwORduul8s5sHjnnXcsF8lhuqKCntvyP00CAICZRSSEcNU4w09zQz+F1k8jcgB07pLtwqogSAJEiF6F0xbYpHmwmfams20t0QVMY7fqHTMsO+7anIRR+kC66iH4QIiEkDO3qz7G5IoakMp6JDmZahaRnH/4zk/KelQ7bZqFIQh5YHvl1ou//Eu/eGd7cwys62VcnrfzZRtjUVBZFb6eBgqVD/2y6ZZdNdukKqCSqaF5b3x4cLKYn+7evnX75VeOu74hLSik1FfgXv7Cm6+9+ea6W50ePFo8fnR4dHR4dMgizrmBsGR61T19jgHP+qkXa8hBjkaj5y72f7jqf/pyKDyT4QNFqSzGKiimW/ubu6N67MP5ycnjw6Mbt158/dWXb16/kTMLzw2UBGqT0UbFwhPoHy3OTp7McbrN5HyeV2GcGAzLo5OFZPVlwcwiXJSlGlBRnZwenx0evf7ZL774wq1JHU6PDv7Rb/7DxdHpG3f3/vO/8R9N69qrFKY0rml/j17C+dnZwcMHbeIyASEXviSWrmtPT86prLyvUp/aVXue+nVsTtrVi1/6soynLWIiyKn3Yey9R9QsyZeTjXK0/cILL+Z8evDkJz/4weN79+oQUE0yB0+AxqaKxGpgemklP+kFEREzX5zBp1DmQNm/++vfGDzOwSt6Hmwwe/oSARFQh2wrWkVYf/GrX7l99zrlrgRpV+uzRffiZz6bNYpGEEFjAgNVUIslFuShl9jDTx4tfu+9J1LNpiMFV3TsFk1WdeN6wpLRCxL1MS7WSxZtY39jZ+NzL96abEycgwL08P693/yNf/Drv/orb712S7J4oICOADwQFwjOoYAkbZdrZ5S6/vwnj9tVq6Lzs3lZjUQ0pTzenOXg8mz84s99LW1vr4rARNZ13jtPQCYO1ERYY9bOi1am2qx/9N3vfPDOO5z6KnjmHhCAILEAOTdU2D1lwGBsL00uEQ2VoKNRjfRMfPAxA66mJC9zxXYRcAOgQ8SBewg+R3zrza+//sor2jdkLByRqJ5tdmwWAEBRGEWcMKmC6oq5DKEwStmsmv7k8fE3v/P995e47GW8sUe+LHxRoHrT2aQAxJOzUwMoqnI8m33mhWt7G2QIDrV0UAEsj47vbFY7dXCAnogUvKED5JJ6Yed8UVbLdRP7lFnwNK0eHOl5k1dxc39vDtyRYYXzvr/9hS9MX7h7ZhaLoEja9d47T4hDHbCqKINkMCXNHtQpP/zo/g+++69y30zqUdeu1/M5KpchXEUXnnN+hjMxRgCYTCZmfBm7fWyEr94/HD9bIIQIdhkIEGFZlbv7e2mxrDj5InQZp9sbMea6qthpHgrKVLmPThTUSiQnIpIlZ4/w8rWRvvVSfq9fRjiat+t19/LdWy9d397fngpEBYtpp08xcQ5FubVZlIUKaBF85RBjP5mWdV0hKqK7wEoQwMglKxVENOa+WbfLrpvMNtYh0WziWonnHfrQGdd3rkGQsRjtbC0NMjkVVRNTUzFWG7IjzAzqSRFABV2TOu98ef32l39xdn1nC8F1q9XZ40ff/Re/nZsFefcxevMJBgwOqPceEfVZ9f68ER7MxSdlAi4QJUOCzFyXY+c85OhUc8yzjU1TJANtGwuOwCxnYCZAcs4RSMpJGIHEACUR6K2t4ovX8Hgtd/a3Hx+d3t0pf+7zdz2l1hfe+z7Go9NjoFDWVeGRxBERoorkYrDaiM4VDpAMNMsQCnqWIJq5X8VoADvjWd8mCKQj5yeljpzfrG9s7/W1M8+hnIgvozlRVI4h+KiKzgM5ZlVANkdGlpg8Kei6SyxRQce+WmbsY+4a2dy//caXvvq93/ktEYZn0zJmNnjzlydDCCklQLmqXf7/vaBnYw0b6r85c9s2BVoyLqZbFsoUexAhiS4TGIpkUVZJCqqiouKLarXq+pimNPYFONA39sc/fvt3D1Mx2rv55MmjR49Gn3nphgdYzecx543JFAkVzMTA3PBoAAcAaKQCrKyADtAjKguzLJarvm2TARVFMR6rWN/0Pbd721thPHJbZS7oweH9Nce+bfZefmPnMzfBjVJsjx49/va3fueFV19/880vrZvG0PmiVAh96jyC5tw2CzAmRBNZd7lt2FyVNQDD1u3bo92t9dEhwfM1Pld9oU/S89Ml4Ln1cTEl2IDODrEXC7dNs7k5Vk9Uly2zZPXCxInMefLZVCSjR18ULgQKuF6nb37rX/7D//2f/md/81e/+tUvoNqoCC/cfeHg/ZNlwhdf+swHx6uMtDGZJfb1aIrqVJUu8Cgxs0ERDmxQtazikAyAWbmPuYtrS0vpfFFtbIzXLOvlejyZfnb/Ws4pZS4mG57CrYnrm+aDHy1G5ivzEbwT9Ao/+v4PRrNtRCLyp4tVnxbgfOGs8in1fSDzhLmPwAmNXFXePzyLqpXLW77ngtg0XOzQZ7yg58KFCyQPAJ5e5q+y6JOe6MUZs4yUHZTGpQpCyVi9f3A82r62Gxy04lNjmBNwNkbAn7z37uPjkzc+//nbd26Px6Vx6vtmY2PyF/7in390fOK8gWQyTXl+687+7UTT7d27N8eEk8OT87NlunnzmhAqZDBE8IyYQQJAaQCsoObJp9R7EGbzSppguWpiSjbyfjR1LjSRU8wxSlnasklI2CWJWYug1XQ8nozPDw6dQwZdpdiY7Lxw57/6b/+benOTmWejMBoXfR8PHz9ZrdKiKAvEAsxSN/LOMnTNmtpezk+u7e44hLjqHW2FUcxt4xyaZkIGFDRVKRCdaso5F0UwYwO9TLcMBPaX5MZP1GPZ06rQoZoFnjaYCGhnfOvaDZxsphgtJyeSvQiIIzw9n/+9//l/OVl2f/d/+O/LeqaS47o/OTkLdVlP6l//W//p/Py09F6iBEdt1+zvbe/tbVbQO19d29+9f/+hSLdcp6IqxQhMGI0xGyIh0IDoArZtB5Y1qiYFc1kN6spXQcE4s8QYu0zkxtWEDCpfccdVWYmwM+8IsSx6ZeLcArAjRKvrcWJbL1apa2ej0bTw1fWtf/md782TjYowq4tJVbRtLzFyYu36ndmsMiPAycbe1nT70IV777+TYyrC0ApwIaqIoGqqQr4wU7NnMpqInwbGfVIFAQCJlIoOyZDEVeVk5+4bn82ZM5E4R+JEGYyMrXDhc6+/1jG+ePtO7LrYLLvV/P33P7x15zb0HSsTQN8mUos5eVdvT3fLqpJuIcjT6ewzt/e72BpqRFSqFBwbq2ZEQoIQnCIQwbrpxbjyVVJhzdPtnXpjFlMfu44jM5sabk42HHplPV2ep5w3ZrPgKu+9qHBZ9yKYY0IDKnMSyXlWj6x37by3psdZXXocOfmf/t7/eOP69b/1a79m2RBg3fXcJwK7tn8z9u16tUKIZRkePX6Qcl+FwJw8AQICoOrTBA58SpfBUO746Qz4ZLkLmpEZEjH6TOUXv/S1SNiLBsTegATVkRmAiAP6G3/9r7MGDxjbbj1ftMv5jb0bJo57WTar6XgkYMJi4DkDZ1W2qqpDXWfNab0aTepW8mK16qTvJRBBXSp4b6C57bypA5ufLsvY37pxC1xRVCGaLs9PLUvuErO0TWcC167fRl88bs58GcrpZInonHPeqzoeTTpwXlhdQCAB167jCOjdH34Qu8WbX3jVsp2enmzNxn/q61/e39+X1Fo1Xq7btk9O2BEV3lFZVH7DE73//nur1aLwznvHeSA1mpFdSIB+kp4DkYnIf+rG/5QbTEPwPVtvcOPFl7au3WoyNJkD2NjA+ugKM1XMEMDlxE3bVdUIVCRlTZkVMUAnkcUSSY0Q0CtSSpK8GmAIYTSqzhZtiqnPCatQhgLIX5RSZ1iu1x60IHDGjoDB9y1vJ3UAlmNuW0EN6nPP8+Vya3dvtrXdGSI5vHk9okYdQBRlzipC27tecLy11a3j48cH5kIVqsfrw+2dvdnktgg/PHzkQOrp7N//D/5Dzhz7aGrr9bosq9Lr8aP7x5Xt7myPqtI0f/Te9x0KEWSOOCA3T6srzIyZQ+HspxD2jwrGoSd1Ftn8aPbqZ99SDdJzFusdsvPki8RR+kTqvUPgzH06PT4uQ0hNx32MYtwnIQMCzaYMAtDllBJO9jeqsgBou75brdfJwmq1mLhJismwGPs6CTRdDuSZE2tyoGac2rg8XRShvr6xSSbCKUtqVjklqTdnm1u7WhVhNrW6ksKyMCsbqAJmQ1EQ8l3KD97+QduruXrVymw2K4xn0zEjLhar5ToHwnnsklcURgVkrspSVSyeL568+813vrW7vX33zq0c+7R8VE9qe5oKB4Ch3hcAmNlMEcNPa3P6I8PRCA3HCP6Lb3xuPN1c91K6wqt00jd92huNczTpk3fBQQazUVV1Ka+7XmOXYlIIAuaq4EvvncuR+xjPu360ebssK+8dGuWc+5gYC8Hw+OBwtjFFSMzrDEFd2ccUHHAWT2amHz54WGR++PhwcXBcgZWOXKDajYPR9nRr3TSJs3dUB4dGGnPsejU1s9j3kTk7NxqNQhIvkpWKonjw6HFdZPA3mm4NmRWLdddL4dgVDqh0xjEh4mp+fnjwo7g+DMDdMv7gOx+Whd/a2IggdhEHDM3KQwwLzPzUmf4pDBji3qFY9/LsoLaunuHMRVmzq6vZzoolGpBl8r6z0SPOrqgr0rIGBeWOCapR4UvU2KeMLoQ6egvOKTk1UwVFAYflxjZOR25cwnRGOh1382ujdGTrUXRnrb198nh3d3MTwKFLIaJq4ozChvCt3/2XLuurt1/YGo1qwAKkLH1RhRKq1Et7vsJcL2G1MR5lsPIcMFEW6kB7leW6Z+Vqo6qLcjwpUt/0nZblaDLZzyiHC/AgJaExADgKoy6Ky9lyV3HHy8fr+z/qFoceybmABsGXIZTMRA4/Jt5l0ym4xGyOBEFNAfSia1Y1FAEJDOSZNtVPro8BVQQU8QScuGujYoGABKrLFeZ09OT8WhUcsXkzQmVD1VB4ImcGMTENPSqkSlhM6mt7m30zD6vFapWoplGxXzssrdkoeVJXJ7Fvq3DW4fmqbWMK4HIIqIKqEvuTwyeLs9XrL7xYOB+cC4ABcSj2EzVfOHKIoiVBOp+PR6MluqX1591qHaMZcpdzSuW4cuaQ7Ma1/XrRLtuYu/nm/o2qLCRHNGlVzCium8XqDPt2+ei+70+teeJ4Pq7LshqrmYoyZ6IASEM0Bc+6OqoipsE7JLysph6QK0JCBLM/MhRBZsg5BH343rs3XqmgnLVRK8gb3F2fTcfTQLnRnGLuAxZiAkAhBHLoxAUL1mYQnWzO3Lgqq9CnLqZ2zzWboQZbFBGrwhXWJ2xK0L29ehw8V+7eoktacVaJGRVQTSLU9ebuLo1Hk1FZBHJOJTgqHBWOBNSH0nuXhUuFdDp/cnp+OqYOoGfL6k2cRpxOZtNy1s7Xk2o0rt3+7o17jx5ubd1EV8eYn8wX1WiSgd7/6MDpekSNF3nwwY/mj9770qvXp6NQVgW4gKZE5rwHAAO8qGR8dgmDmTnviEjkIp1FSGo4wIjwXEryOWl4BlAFUBWQtDh8+PLLn1XVo7PF9d3xazd2SiTtVwCQEVddRnJgGdA5D13XCwkWGNhXzpun4H3ft84LEqjhpKjaru3aXqtCAol02p8bl1tuc3tc3l9GP90KjJZbNEMVN9b1fL5adVVZeTQH6tECUkD0AEbgAyKBM9sIZRZ5cng0PslIxOBSMeqoonJSbu96InAMahL76HQ0crONTc3+5Gy+vTX98OGhrybT3X3P4c9+6a292eb862/9k9/8jYMPv7+3tSMGqgY2wJRDxwHYlSr/q1AE0aA7hnoIAzQiP+A7Q2zgL9ICT3PEl/df4nkXLwHMoRl7697//rfeeOvn37i7f3tWFf3chLldS+57bjNHLxAMmJljGxDXsXHO0zhcv3m7yeKKUGS3Xp6gqBUbfXarVSsGC2x9XfoSS3AaJdkaGaajcp3MO0dGqAZDgT+YCz445yyTaiAiFY9UOOcdUUAZalaBnchOXVedW7M9ATgrKEzHtL2Dk6qPbUmkhgrY9mm5WhtgQXUIdOf2ret3Xvy97/+wKMPrr3/u5ddv56a7Xb/2n/ztX//J93/nu9/6pubsEAjJEEX1aesXPA19P05nqbJzjhyZKZEDUEQAcN67EEozFVH/aYDRMzIxvKUE2VFQCSDN6b37P6Q/80u/4qRV0Ng13XIhOXV9Ax5rg0lRC1KzXrmqBk77+3sbt64v22553vTn57V3haMqjH3Wdrmmrm+7LpHjNrDHovSzUIpRaps6jNu2Uww+IIihgsTkCqrHpXNYoi+dLwkDYEEuOITgMiogutrlyH3fcOwThY4oeweVLyrvvGlq1rGzoiJXo+LDR0/q2TSKf/jw4WxrK1P7wf2HqDyt/WQ6PeuENAQAqjduvv4lN5v93jf/b+2aYZbBZSkKfhzqmqoMu1tVidD7wdBehMMEREQpZiIcStsUgC4LtT7VAACAADKhAyVTj7nEjuJ50+TDs/P12XkQ8SY+eGZuY/QFV5PJbDTOYKOiKL1fcVwbL2NbFUVRhImvtGukXXC3DKJjy96kF0kQln6iQsfnZw0YjMtREdarBsyBCqmZsvNU1qV3GIiCdyW5cekBRBIjACtnh1gU2SSMyulsdjKuxLvaF2qWBI1TbFp2zvtQgK4X7XRzZ7q9nTlv7e+tVs3B0XFOgoajqjSz8zZPylFULaiC0ebs2gtb+zcO3v9xUQYzxUsI+tIIGwx9t4McMPN6vRZhAABUFbVkW1tbVXXRAuO5b8cbm5kVHRmQ4JB0kefUmVfwCQCdGFIRTs+Xq+U6HbXt0Rk49aYlW0C/LEOHhoyiPPKOMwcfNKPNeRZK9VNVK/00k0u+1LFrmojaYOGFnCvL0lfrXPzg9LQFH6YbHspCpSaP2SJrlxMBEjuS2nsk1xRjF5wDNNKC1GmyCXnT1PSrXNY7r3++D6NxJWPvnCsU3eHhydn5AsHa6MizL5prt6ebk6lTBKhcqLqmPjjgJ8eLROW8jcvzhbfmrI7Ltq08VDlpm0azvfsHv7O/fy2nnsAQFAGMk6lc0h2R6rpyTkPhu6698PLNIZKvAQIwsqkVReFj3/OEB0fqotLNwOByQMLHNUhgDkDVlABj3/747R/cmFxvcnTBK6uB9TnW+7vXXt4fO6fWLVfnmaWajE7nx13SyXQ65Kb7ZulDQUSU0rgcd5FXncxzWixS8smCtspuNHaF49SPqrC/tzOaluZwvlo2q3VzNj/46BFv7lX1OHgHqt55AkSkiKYBFaiPUO1vxWnZ+oq8GpgAGdhse8u8P3hywl1q1v2rL782HblBcwhzzHFUVi/cuV1Ukw8fn3DsH370APO2n2pSjqnP2hcpV4q+63W13NyYGJihGljpxwOlhuKfoiiapsl5PR6PRqP6otsAENEQzXufc1ZTQPBd3+XMoSjtwk4PzhA/xwBTp4YE6kw84vnxyR88OLr9y39lvLdxvJpvTafXdvdnm1OZeQHtwYypDBszdLFJ3emJ9rpO3WgynlVVlrRuTsGshtIZIpZQhQ55oQ5H4zqgdyZkRU27e1u7G1vkKTou6nLbpoTIbWwXn8lPTqFPYBpQC0QgMxBySH6YYYRYFz1ZT+aNVDhz6nNitdnW5qLtFs06OFf4MvaJzNB0aLZq+w7NJqNacwSJfZ9PT1Yz886DtI1zym384Hvfm3LG9Xq8MYKClEjRlM3sIqE7QMgx9t47RBwqgi5x5RDoMlUJAB4RY98jOUMyQHCOAD/p0g5NXQRWEGHfr4+PgoZ//I9+8/prb7zy5hc/8+JntnzIuelTDyWumtYDYZYoGVnImeTsAzpJJYUqODJkVorKicWAyfdInQ/oCsJ87e7t8WwSKl84CgoCKFYvW1aw0gdCmm2M6/Fec/D4/MG9qg4MQo4wDNGGBW+VGcZsTdQQOkQRFrOUmbw7Pz8rCx/blR+P23UfHBGCSjaTuvQmTKaceDaq100E7x4/OOya9e7WmHJ7tjo//Oj+4w/vbZS+6drTwyc7t/bUVNAQSwQHACEERBxqIJwbmtfwqjK/LFoZcvReVVNKZVUrAhIBoHNe+UICyLmLG9Eh+gKlMJ6fn1vTeKyWzeMPHx98/qtfK0Od+0hmBchq3pI6BOQOVI1jD4YmIKh2UUOsjixZbnMyUQZwrnJe58eH2fm33nj52vVrjGAOM0tmVvAZyi5ZnxJY5wVIdBxoY3t3R3mksUY2EnawWY1z16bcl4jSpiaeus2iBXDBA5gHl/vUNKvZ5obmbmNyrWviR8cn1/Z363FhxovVKiCUhA5xXPrSQctZcnr37Q++tziYep0/eWQp10kyZ0Ec1aUR2kBbw0viisgQeTlXXnr5l9QfJvEN1aIDA0xEUkquKFVUJEVNBbnhhhR5EBaxpIgZZb1eNMdHhYl269qPd0eznWrWna/nJ2fbU+frWEVdnKzGo62Syr5vl8uGOTrwgAHQJxaTTMFP62KyW5UulKFI4Mvj8w8O7l/bvf3S3TvRzJC6ZKIOzXvvvafCBSgIDZyaYwOHjaRRVY2LchqUIfbEYKHU0ppVu+rWqedyrF0iX8W2q8dVNR6dx1gActsGjznGFKXvZLWODBIClM4bp8g5dX3sunY15wTTcV3Y9Pfe+RcfHt6vASvnU4E3b21e296q6iJyBkQAvfQgHVFRFH3fP9XoQ1Cll/DcECdcVkn7ELwot103CcXO7u779z50FPLTCJnoAsgTMAyAYN1yoW1bO6+QOHe3917amozOTpsnHz6w7ZEVfcASOzt+8iRmyZq3difkggoxICMJs/O2NZtVo2otimaqSsC39jZ+6We/wkVtqk3XHq7WbjQN5aSsRtly6pcUXCgdATgx8iZG67ZPXTNRK4rgSldXFYcCzDb3NnYoLDr88HB93p33ucqizrnVuuljS85OTo9QeTouC0/TSU0Ey8WSuR+X3qOVDiQJAoGZcG7bXpqFpHZS+JEjTYKFt6pY5aTBBecBFJTUiJCIyFQN8PHB4aiufdhU0yHgGpoDiLCuSU2REBAU1ItmNHLBb2xMyMGNG9cICZ+tPEVAcWoYZ4kfLk+rvkUj8M5Aj1cf3T94b1xdH4828trazkRW0+nUMvfreT2pxkU4ODoGKOrZNBEwyOZ0QqNRJ2JQZ81JskhOGTa9XymcO3fSdq4oxqOKSmeQu5TFCkpGoCSCJqhKop5ThtSGINOxD1SVpXNFitlMPODeyHZulyfHJw94dNrR2Xxx3iUi2t4YdS2T5sL1N6+567ubOfvDQ102HMaTt3/wg9s3b4yret2kbhmVo/SLx/feXxyebpXO1IHRpCqnVRV8CORzYjMzMM7KLDlfzKU4Pu+KVo46TSmlxBdpYcJRVXzmxvbWziRUCAXExL4oCjVDgPV6HTIDOUO4xK+HZkEAEFaWvOg6KEYbt7Y5W5eV0K8Unpwvr+/tWOm6vKYxmrpio+JCMKMrSDRtTCbtiisXYhfDtAi+HFoQmaNxNkmI6MgBWtd1x0cn3oViNEZ0wpYl9TEyG4GRmTdFU1ANKi6nrdns9vWtzUmJmlXVZGgtBgNTEO/89ta25bC3XR0se3642tzdWy4X5ydHXbv+7Gdei01nLhi6rf3djd29hw8+2N7c2JyO83rNy+OCl6/evd215VfubDy8vfnuj945PTomH1attPdPVCSmi+kRNrjwoDYM6lT1HpuYbN2pDq1hpmplGTzSg48eZdl74aVbgEpPjXBm1iqlajRWgxjjpQ24RDY8+cJNu3VsrFqvc8y8iogpniy61xbd3Ve3yMLe7V22dWL1LpRSbV3flBz7tp3MJtLH9aItNusqjFIUEXFEagacIUdDSIKRYdl0hzFu7+yw9ehZkNoY+8Tk/DClqnIEqqBSgFaEd25cHxUGMkyfdBfRqAA5MpGUsqrV+bxwZZjW26/feHB8vohL4z6erNK8WYkW00mElDQA0PZ0sjup4vIspKZKiy/c2n7l7o5y3SzP745e+9Nf+cJ7Hz78+7/5f67XMS91NKr6mIN3NszBJBgiXTP0wSdm5zwYuqfGlkUIUAXaLs/P1q+8WnWp6Xv2zDz4ql3XTWYbhkTPAqIXB6IEbjTd0NvQNt2Th0fvPjwoBQHLzWs3/GjcL9Zn7QJ8nxKbkbKgAac0Ho+TQSZed32VikKMlNr5ypSrsvIqnjVLFvLH88Xj86Yt9re3HWeLXQ+hyKwqFwmm2PVtzmVwaIDSXNubjX0g6S98NqLgQubEiX0ZTICTCOfSkoGgpFBMFpgOupV2bXt6dvzRg5def6k9P3XjqXDHiYvUIWjF7ayCN998bVw67tehRis3liWeLZuv/8xXTlfNb/7jfxKKoIbee0BCBDC7KI9+On04eK9moIaAQ39R4QMYoDIgbW5uCysomsKAExEhDckzoJ8yNQgBTMFjMR278XgzAXx06F0BFNC7oq60GsX5OvYdmJmiASlAOZlxWR08OXr85DCUISzZb08N84fv3guEVTkOwvvT2XK1PGy7dfAnZ6t2Y2Mxb5TIFaVySiJN2xsSCOe+z107HY+C8yTN6Nqm9n3mjo3JefSFYe6aPnZdR2YqQ8u2EZgxoOQ23ZjNfty835wcf+bOrYMP3kVZ7d26DqnVbIVzE0vTcb1/bXfiaVY6FO6hUFNTmNQlK8zX8xs39ibjgocOdU+ENISqJBnMAIEInXMX3o4DQgDEIgQWyTnlyKq6s7eFJIl7kTSgoQqIOee+70NZ0dNIAT7ujEQABWfmwFTMcHNjWrnCq7Wx/b/+z//jpbuvVuhTxtQrqjhyGIIvq87o4GS+iDx98U7Oabmen6xW0Xs0unPtTtdrc3TSpO79d++Nb91qk6oGE5zPV2w2mk5dVa/bNotmUY4RTbnPDnoTub5bo3JsmgKlCCiswjlyD4qjeoygqe84dSll5yYqOeeOVa20u3vXjrZOIXZb4+L44QejINdu3By7yhnf3CpvXN8PBE4NJOcUM0NWALU+sYHWpX/40b3C8bigp+DzhYYosKBLpT34jojR4lM1nkaF79FMdFxPJuMic5+5QSI/8A3RRDjGvqpH3nsZRlur6vDfYOCMk+Su6ziDZiJykvuqDt/+vW+/9a1v/cLnv5pcsNEUWdAVUBYRsQeLZT3Z3CrLKng/WS3OHz6cbMz2d3Yf3v8wY+1igggb2zuTre1OsvUn5NFAsui9jx6MZ1vHZ+ezjU0D69vWo41C8fDhY+F8s7iGuBlCmJSVA+sTp8jOzA2FOMrekSuroigSjCEnD5Ca9Xx1tmwi5zwqi+kk3L2ztbs729qoptPt2Xg8La0IPsbORLu2bVYrc8GXlbH6oqp8Ufpif2+nDOTDBRhtFxgGkl4MEB+G1CkgIqA3REQgzkygo6qIHe9dmwnklCOYhcJ7hwaI5BDButVCcjo+XaVMOecYozCLSMrZDBAcc2YRM3NE7Ng5a/v4Z/7yr3z2537+aJVlPGkVUQDBUfDVbKIOMfZQBiHXtX29sbulxO1qNC3qsG/1tFsuKYvPfNwt5lnA2ao/nRZbAtin5Fgyu/myVem9o5iilXkyGXVdd3h2drreratSOZVIoOjMgyQBHtJ3F/4IaActgBDpeGOKY7i/uLfsm1DW1Xh05+bmrMbZFOqxEiXORYq9KHddm1KPpS89mXTZDH0AMTEicCKggsFdtE86BOfILlvaCS7LpIO5oa+oLAIigtjWpB5tlAratlEVvXPeVIFw6EJmkX61+uCDD1Uupn557xDpqRhcDKBFIufIFGPWvRt3/92/+te6DFUxnkw3gjaSOfhAhUPvz5aLJuXpqI7C4pyFYvPmTZifnZ0deoW8OGvnCzJctLGjsnfl8ep8Ti1nI18biCes69DFrghkIgBKYDnH3e3tuD56dHK2vbklQ8eUGitpFjABMCLwwYuKGnQpATOlTM5n8D/6yU/e/uGPf+FrP0NWOjSHCKKcEgD2Il3XOgeiDEgOKbMaW1ZNalF0sVqs1uuh7M0UDI2QiC7UzmXoeplZeW6+jAEg4enJianEGId2AT+AeGrqQ5myjEb15ubs+MnceQremRqgeu/A4dNUAxDYgIOr4tbeLSpmOZKqS73CqC7HZGY9cx/jIkUoCiZiwWzKKfnReLK1vWwWsV3bchH7jpxvCFvn3j86XfacSXrXj6blztZmllSXvggjs1SE0sEIRQJp7JbLs/N3LG9tbO3PxmtOJiBGNDgWYEhGrCqsZkkycqbEwn2reHhydnR6Op+fTitZbLoSx4QYEyTu0FVlWYAjYyTCxDF2vYmxKgOsu+5kPn94+ORpkyoYGCE+RReeKeq5giM8pf7TZq8U89nZeV3V69j2ffJFUSigAnJmVe37uLU569dpUHCEw280DJPkCJEAIafsCJXIkT89WxyfLcqN6wYuSUo5ryURQOK8WC67vt/e2clKkaVPbMJFOUqqOt44ePRoxCrO9zmdrLsfP/jJhwfnP/tnfnG+nDsgyVm0YUMjJ6oiKUdwph4hNk3qoygvu+79jx74u7cDgAqoUeGcCIOpD845YGFVWbcrbxLMcuTjZfPk+JgBj8/OdrbqnkWAzs6bsvauKItQKTlAyIaaWdSyUrvqKPgux/Pl8sOPPnr3gw98UQAoERKCQyA0omEG/zO42xDGwlMc9OJ/QHI+RUlxPRhnH1NyPoSiNCRSUMCyrByicxRCmbPA08kSwYcBpp5NJoggItqvYtN5pBRjQXUoy2XfrNqVqnZtm3Mm5z788P5oNCpKt1iu1bBv87TwE+eiH713//3jkycfHTw+XiyamIDqbr3cnG4u1itlJiREYs6iajbUFUliJhEC3trdiqtlSv0HH76/MarLUJMr5n0KzimIcAY0VU45ucqVjqTtmnW7jBxZwLnHZ+e3714/W7UhFMGXZTELo1niHDkBWOaUUsw5chTNKCkenh49Ojr4p9/8Jnpw6PCp1iG8GHJ4mVP/ZJ3VZQfG004vAxjmlYGZeRz6wlQvpiADOUc3b+wNWYRBvi4k7mk3PhGllLzDcVWerler+fn0xpbkiIYp9eg8CIdQVeXIROtQxT6enh+jD74YzRfNWmXsUaiIxexfvP3/dnlVlH60MWlX3b0Pfvz1n/9zOecu5yQM3pEvyANnzZw0JY8AIpubsw/f/fG999554S//CjkvOS6aVpQ0sbIYSM5x3azG4xEicoHS95S5qmpXjJJIMZrM23TepnfvP54v15//3FsWJk1CyTlzFkksHGPXtA334qxo+/bw7PS3//nvtrGbVBM1C09VCyIMWsiulJ9/XM12xRiY2UWvj9jV8i1PrjBEzkzOq4Eoq0I9Kpum4diHogBEACNEABpyliychAHASlwen7373W//qet3znPueg51lbsudinnNMyDiylzlqLeiJlZLOfctOt56rlvjldnTDqeTXPqc4pl4d79yQ/9aPbmW2/pctGmPExmN9HctyrsCQhgsTx7+OCDh/feJ+7fffedX/jKlxcnpwW6uqwTggUk8OPCl8654JLkBNamXBWhNf2D73w7cR+KKkn68fs/+eyrL9UMj0/nnVWFL52klGLKSYSb9Xq5WsbEMcr54uz3v/fds8VZPQ5lEUDSlT6ky8pBHIChq9kuvWyGGQaL4eCmXjIKAMBnMecIAB05FFGVgQkhUM5kJjgMoB0mnBuIDdC0ZzEbQTmC7/6zf/z5N95K+9fOYwpdis0KUBGANce+7/u+jz270gDQOpSkmjL3Hz366Ec/+F3n2VEBzhMgIbgS333v+4vV8fb27mS2UY3GTlFFHMfg6ODRg8ODx2hqptNpGcD95N13Xrxx48bGZl4u+7ZJoUQfRr4gwMqFLiU2hYI2dvdGk/Hvffc77z28X1YlUKSR9NK8e/9ex3Lepkn9uCDnsg7KIjObGed8sloenB0fPTlYrxZlSZJZc0JQxeG3b/Ayj2sKiDQ0pF6qILnc6fhxzHY58PXCLP/an33h8ieUzCznrGqIF631lxNWEGko9FQDNmRVFhO1wwdn3cre/NN//ivf+PeWirnpAeQi76UaY2RmZs6mYArGTkVz3zerH/7w+wcH9xwSqHnnBvvukAyBRcgFQyIXRpOJd045dm3HOZbBj6rSTEDVmFElAL71+c+9dPs2qID63CUSLcgnYSqCeWpAQlU8ePjw+2//QAG62AMiBtiYztpVG/u0s7Wzs7XrAIffFHHkRGUxX6xWyz5lcASWV8uFSh7VYTapVZkIC0+O0CEQAiEwa/CFmaaUnLuAMuXTRqPL5dyhyzbVpyk0ucwpI7rLX7V6eiMC4FAAOfxeDJpWzk/Lwtbpg3d+/HO/QhZ76fomteYuHK/LQWloGVTQxCTNTw4fP7h3fnRQVRWnXJSFqToiAnSmqLkMPhSOXBAATU2fc1W4jdpDCYRgEr1DcI7N+SI4R3/w4x/eO3hw94U7u+XWNNRlUToF8r7jlDhlZz/88TsPHz10wdd1LaaAIMAppaquTazruvuLeyLqq4JFVGT4CS8gdFUBamBaFmXTZPf0ZzgIn/6u02XZjvc5ZwAbyrA+hfA/Zf1/FbU+Klu55SkAAAAASUVORK5CYII=\n"
                },
                "metadata": {}
              }
            ]
          }
        },
        "d955313b5cbc4bdc883c8654ab1d5bb2": {
          "model_module": "@jupyter-widgets/controls",
          "model_name": "LabelModel",
          "model_module_version": "1.5.0",
          "state": {
            "_dom_classes": [],
            "_model_module": "@jupyter-widgets/controls",
            "_model_module_version": "1.5.0",
            "_model_name": "LabelModel",
            "_view_count": null,
            "_view_module": "@jupyter-widgets/controls",
            "_view_module_version": "1.5.0",
            "_view_name": "LabelView",
            "description": "",
            "description_tooltip": null,
            "layout": "IPY_MODEL_a42a491d0fba48a9bebc290fa65d11e7",
            "placeholder": "​",
            "style": "IPY_MODEL_3a6b567ad5a8409ca5ae136adc1ac9f7",
            "value": "Prediction: teddy; Probability: 0.9999"
          }
        },
        "2bfd3d35b2d442c9b2d1d64c5141dde3": {
          "model_module": "@jupyter-widgets/base",
          "model_name": "LayoutModel",
          "model_module_version": "1.2.0",
          "state": {
            "_model_module": "@jupyter-widgets/base",
            "_model_module_version": "1.2.0",
            "_model_name": "LayoutModel",
            "_view_count": null,
            "_view_module": "@jupyter-widgets/base",
            "_view_module_version": "1.2.0",
            "_view_name": "LayoutView",
            "align_content": null,
            "align_items": null,
            "align_self": null,
            "border": null,
            "bottom": null,
            "display": null,
            "flex": null,
            "flex_flow": null,
            "grid_area": null,
            "grid_auto_columns": null,
            "grid_auto_flow": null,
            "grid_auto_rows": null,
            "grid_column": null,
            "grid_gap": null,
            "grid_row": null,
            "grid_template_areas": null,
            "grid_template_columns": null,
            "grid_template_rows": null,
            "height": null,
            "justify_content": null,
            "justify_items": null,
            "left": null,
            "margin": null,
            "max_height": null,
            "max_width": null,
            "min_height": null,
            "min_width": null,
            "object_fit": null,
            "object_position": null,
            "order": null,
            "overflow": null,
            "overflow_x": null,
            "overflow_y": null,
            "padding": null,
            "right": null,
            "top": null,
            "visibility": null,
            "width": null
          }
        },
        "58a7d315c0454df1a5bdd397c173c0f0": {
          "model_module": "@jupyter-widgets/base",
          "model_name": "LayoutModel",
          "model_module_version": "1.2.0",
          "state": {
            "_model_module": "@jupyter-widgets/base",
            "_model_module_version": "1.2.0",
            "_model_name": "LayoutModel",
            "_view_count": null,
            "_view_module": "@jupyter-widgets/base",
            "_view_module_version": "1.2.0",
            "_view_name": "LayoutView",
            "align_content": null,
            "align_items": null,
            "align_self": null,
            "border": null,
            "bottom": null,
            "display": null,
            "flex": null,
            "flex_flow": null,
            "grid_area": null,
            "grid_auto_columns": null,
            "grid_auto_flow": null,
            "grid_auto_rows": null,
            "grid_column": null,
            "grid_gap": null,
            "grid_row": null,
            "grid_template_areas": null,
            "grid_template_columns": null,
            "grid_template_rows": null,
            "height": null,
            "justify_content": null,
            "justify_items": null,
            "left": null,
            "margin": null,
            "max_height": null,
            "max_width": null,
            "min_height": null,
            "min_width": null,
            "object_fit": null,
            "object_position": null,
            "order": null,
            "overflow": null,
            "overflow_x": null,
            "overflow_y": null,
            "padding": null,
            "right": null,
            "top": null,
            "visibility": null,
            "width": null
          }
        },
        "3c38d5825ab54663bd9c08e06a136579": {
          "model_module": "@jupyter-widgets/controls",
          "model_name": "DescriptionStyleModel",
          "model_module_version": "1.5.0",
          "state": {
            "_model_module": "@jupyter-widgets/controls",
            "_model_module_version": "1.5.0",
            "_model_name": "DescriptionStyleModel",
            "_view_count": null,
            "_view_module": "@jupyter-widgets/base",
            "_view_module_version": "1.2.0",
            "_view_name": "StyleView",
            "description_width": ""
          }
        },
        "f343e1259b61494d8012b606bcc2552a": {
          "model_module": "@jupyter-widgets/base",
          "model_name": "LayoutModel",
          "model_module_version": "1.2.0",
          "state": {
            "_model_module": "@jupyter-widgets/base",
            "_model_module_version": "1.2.0",
            "_model_name": "LayoutModel",
            "_view_count": null,
            "_view_module": "@jupyter-widgets/base",
            "_view_module_version": "1.2.0",
            "_view_name": "LayoutView",
            "align_content": null,
            "align_items": null,
            "align_self": null,
            "border": null,
            "bottom": null,
            "display": null,
            "flex": null,
            "flex_flow": null,
            "grid_area": null,
            "grid_auto_columns": null,
            "grid_auto_flow": null,
            "grid_auto_rows": null,
            "grid_column": null,
            "grid_gap": null,
            "grid_row": null,
            "grid_template_areas": null,
            "grid_template_columns": null,
            "grid_template_rows": null,
            "height": null,
            "justify_content": null,
            "justify_items": null,
            "left": null,
            "margin": null,
            "max_height": null,
            "max_width": null,
            "min_height": null,
            "min_width": null,
            "object_fit": null,
            "object_position": null,
            "order": null,
            "overflow": null,
            "overflow_x": null,
            "overflow_y": null,
            "padding": null,
            "right": null,
            "top": null,
            "visibility": null,
            "width": null
          }
        },
        "822536bb6ae348a28776e029e8a328d0": {
          "model_module": "@jupyter-widgets/controls",
          "model_name": "ButtonStyleModel",
          "model_module_version": "1.5.0",
          "state": {
            "_model_module": "@jupyter-widgets/controls",
            "_model_module_version": "1.5.0",
            "_model_name": "ButtonStyleModel",
            "_view_count": null,
            "_view_module": "@jupyter-widgets/base",
            "_view_module_version": "1.2.0",
            "_view_name": "StyleView",
            "button_color": null,
            "font_weight": ""
          }
        },
        "cc40494fc997410c9c4fbe61131bd8ba": {
          "model_module": "@jupyter-widgets/base",
          "model_name": "LayoutModel",
          "model_module_version": "1.2.0",
          "state": {
            "_model_module": "@jupyter-widgets/base",
            "_model_module_version": "1.2.0",
            "_model_name": "LayoutModel",
            "_view_count": null,
            "_view_module": "@jupyter-widgets/base",
            "_view_module_version": "1.2.0",
            "_view_name": "LayoutView",
            "align_content": null,
            "align_items": null,
            "align_self": null,
            "border": null,
            "bottom": null,
            "display": null,
            "flex": null,
            "flex_flow": null,
            "grid_area": null,
            "grid_auto_columns": null,
            "grid_auto_flow": null,
            "grid_auto_rows": null,
            "grid_column": null,
            "grid_gap": null,
            "grid_row": null,
            "grid_template_areas": null,
            "grid_template_columns": null,
            "grid_template_rows": null,
            "height": null,
            "justify_content": null,
            "justify_items": null,
            "left": null,
            "margin": null,
            "max_height": null,
            "max_width": null,
            "min_height": null,
            "min_width": null,
            "object_fit": null,
            "object_position": null,
            "order": null,
            "overflow": null,
            "overflow_x": null,
            "overflow_y": null,
            "padding": null,
            "right": null,
            "top": null,
            "visibility": null,
            "width": null
          }
        },
        "01b7c925fec64291a84dc384c7228a4d": {
          "model_module": "@jupyter-widgets/controls",
          "model_name": "ButtonStyleModel",
          "model_module_version": "1.5.0",
          "state": {
            "_model_module": "@jupyter-widgets/controls",
            "_model_module_version": "1.5.0",
            "_model_name": "ButtonStyleModel",
            "_view_count": null,
            "_view_module": "@jupyter-widgets/base",
            "_view_module_version": "1.2.0",
            "_view_name": "StyleView",
            "button_color": null,
            "font_weight": ""
          }
        },
        "a42a491d0fba48a9bebc290fa65d11e7": {
          "model_module": "@jupyter-widgets/base",
          "model_name": "LayoutModel",
          "model_module_version": "1.2.0",
          "state": {
            "_model_module": "@jupyter-widgets/base",
            "_model_module_version": "1.2.0",
            "_model_name": "LayoutModel",
            "_view_count": null,
            "_view_module": "@jupyter-widgets/base",
            "_view_module_version": "1.2.0",
            "_view_name": "LayoutView",
            "align_content": null,
            "align_items": null,
            "align_self": null,
            "border": null,
            "bottom": null,
            "display": null,
            "flex": null,
            "flex_flow": null,
            "grid_area": null,
            "grid_auto_columns": null,
            "grid_auto_flow": null,
            "grid_auto_rows": null,
            "grid_column": null,
            "grid_gap": null,
            "grid_row": null,
            "grid_template_areas": null,
            "grid_template_columns": null,
            "grid_template_rows": null,
            "height": null,
            "justify_content": null,
            "justify_items": null,
            "left": null,
            "margin": null,
            "max_height": null,
            "max_width": null,
            "min_height": null,
            "min_width": null,
            "object_fit": null,
            "object_position": null,
            "order": null,
            "overflow": null,
            "overflow_x": null,
            "overflow_y": null,
            "padding": null,
            "right": null,
            "top": null,
            "visibility": null,
            "width": null
          }
        },
        "3a6b567ad5a8409ca5ae136adc1ac9f7": {
          "model_module": "@jupyter-widgets/controls",
          "model_name": "DescriptionStyleModel",
          "model_module_version": "1.5.0",
          "state": {
            "_model_module": "@jupyter-widgets/controls",
            "_model_module_version": "1.5.0",
            "_model_name": "DescriptionStyleModel",
            "_view_count": null,
            "_view_module": "@jupyter-widgets/base",
            "_view_module_version": "1.2.0",
            "_view_name": "StyleView",
            "description_width": ""
          }
        },
        "e117445f213242d8a701e82dae1312bb": {
          "model_module": "@jupyter-widgets/base",
          "model_name": "LayoutModel",
          "model_module_version": "1.2.0",
          "state": {
            "_model_module": "@jupyter-widgets/base",
            "_model_module_version": "1.2.0",
            "_model_name": "LayoutModel",
            "_view_count": null,
            "_view_module": "@jupyter-widgets/base",
            "_view_module_version": "1.2.0",
            "_view_name": "LayoutView",
            "align_content": null,
            "align_items": null,
            "align_self": null,
            "border": null,
            "bottom": null,
            "display": null,
            "flex": null,
            "flex_flow": null,
            "grid_area": null,
            "grid_auto_columns": null,
            "grid_auto_flow": null,
            "grid_auto_rows": null,
            "grid_column": null,
            "grid_gap": null,
            "grid_row": null,
            "grid_template_areas": null,
            "grid_template_columns": null,
            "grid_template_rows": null,
            "height": null,
            "justify_content": null,
            "justify_items": null,
            "left": null,
            "margin": null,
            "max_height": null,
            "max_width": null,
            "min_height": null,
            "min_width": null,
            "object_fit": null,
            "object_position": null,
            "order": null,
            "overflow": null,
            "overflow_x": null,
            "overflow_y": null,
            "padding": null,
            "right": null,
            "top": null,
            "visibility": null,
            "width": null
          }
        }
      }
    }
  },
  "cells": [
    {
      "cell_type": "code",
      "source": [
        "#hide\n",
        "from fastbook import *\n",
        "from fastai.vision.widgets import *\n",
        "from ipywidgets import *"
      ],
      "metadata": {
        "id": "PYcZZ5ArLwhU"
      },
      "execution_count": null,
      "outputs": []
    },
    {
      "cell_type": "code",
      "source": [
        "path = Path()\n",
        "learn_inf = load_learner(path/'export.pkl')\n",
        "btn_upload = widgets.FileUpload()\n",
        "out_pl = widgets.Output()\n",
        "btn_run = widgets.Button(description='Classify')\n",
        "lbl_pred = widgets.Label()"
      ],
      "metadata": {
        "id": "fQYlQ1JGMLzL"
      },
      "execution_count": null,
      "outputs": []
    },
    {
      "cell_type": "code",
      "source": [
        "img = PILImage.create(btn_upload.data[-1])"
      ],
      "metadata": {
        "id": "U131iDC9Mn9t"
      },
      "execution_count": null,
      "outputs": []
    },
    {
      "cell_type": "code",
      "source": [
        "pred,pred_idx,probs = learn_inf.predict(img)"
      ],
      "metadata": {
        "colab": {
          "base_uri": "https://localhost:8080/",
          "height": 17
        },
        "id": "QH044wuFMklI",
        "outputId": "81466419-c331-4e2e-ce92-c90618a06230"
      },
      "execution_count": null,
      "outputs": [
        {
          "output_type": "display_data",
          "data": {
            "text/plain": [
              "<IPython.core.display.HTML object>"
            ],
            "text/html": [
              "\n",
              "<style>\n",
              "    /* Turns off some styling */\n",
              "    progress {\n",
              "        /* gets rid of default border in Firefox and Opera. */\n",
              "        border: none;\n",
              "        /* Needs to be in here for Safari polyfill so background images work as expected. */\n",
              "        background-size: auto;\n",
              "    }\n",
              "    progress:not([value]), progress:not([value])::-webkit-progress-bar {\n",
              "        background: repeating-linear-gradient(45deg, #7e7e7e, #7e7e7e 10px, #5c5c5c 10px, #5c5c5c 20px);\n",
              "    }\n",
              "    .progress-bar-interrupted, .progress-bar-interrupted::-webkit-progress-bar {\n",
              "        background: #F44336;\n",
              "    }\n",
              "</style>\n"
            ]
          },
          "metadata": {}
        },
        {
          "output_type": "display_data",
          "data": {
            "text/plain": [
              "<IPython.core.display.HTML object>"
            ],
            "text/html": []
          },
          "metadata": {}
        }
      ]
    },
    {
      "cell_type": "code",
      "source": [
        "lbl_pred.value = f'Prediction: {pred}; Probability: {probs[pred_idx]:.04f}'"
      ],
      "metadata": {
        "id": "VIi22MjMNHGI"
      },
      "execution_count": null,
      "outputs": []
    },
    {
      "cell_type": "code",
      "source": [
        "def on_click_classify(change):\n",
        "    img = PILImage.create(btn_upload.data[-1])\n",
        "    out_pl.clear_output()\n",
        "    with out_pl: display(img.to_thumb(128,128))\n",
        "    pred,pred_idx,probs = learn_inf.predict(img)\n",
        "    lbl_pred.value = f'Prediction: {pred}; Probability: {probs[pred_idx]:.04f}'\n",
        "\n",
        "btn_run.on_click(on_click_classify)"
      ],
      "metadata": {
        "id": "hVMdhfUcMhUS"
      },
      "execution_count": null,
      "outputs": []
    },
    {
      "cell_type": "code",
      "source": [
        "btn_upload = widgets.FileUpload()"
      ],
      "metadata": {
        "id": "4rVeE6oWMyYS"
      },
      "execution_count": null,
      "outputs": []
    },
    {
      "cell_type": "code",
      "source": [
        "display(VBox([widgets.Label('Select your bear!'), \n",
        "      btn_upload, btn_run, out_pl, lbl_pred]))"
      ],
      "metadata": {
        "colab": {
          "base_uri": "https://localhost:8080/",
          "height": 217,
          "referenced_widgets": [
            "76b9c69ffbe94129bdce16c737ee3b1d",
            "de04e91cc94146b38b1e5ffaddb329dc",
            "510b2ed1bf1e488d9bc29ed650ef4118",
            "607d2486e07c4eca8e52aa34d50cbae2",
            "c44adf0dd7444fa4a0b15fadfb3ef68a",
            "d955313b5cbc4bdc883c8654ab1d5bb2",
            "2bfd3d35b2d442c9b2d1d64c5141dde3",
            "58a7d315c0454df1a5bdd397c173c0f0",
            "3c38d5825ab54663bd9c08e06a136579",
            "f343e1259b61494d8012b606bcc2552a",
            "822536bb6ae348a28776e029e8a328d0",
            "cc40494fc997410c9c4fbe61131bd8ba",
            "01b7c925fec64291a84dc384c7228a4d",
            "a42a491d0fba48a9bebc290fa65d11e7",
            "3a6b567ad5a8409ca5ae136adc1ac9f7",
            "e117445f213242d8a701e82dae1312bb"
          ]
        },
        "id": "UdB514OoMy1C",
        "outputId": "a5b941c6-cb3b-4eed-cc5f-dd3228193729"
      },
      "execution_count": null,
      "outputs": [
        {
          "output_type": "display_data",
          "data": {
            "text/plain": [
              "VBox(children=(Label(value='Select your bear!'), FileUpload(value={}, description='Upload'), Button(descriptio…"
            ],
            "application/vnd.jupyter.widget-view+json": {
              "version_major": 2,
              "version_minor": 0,
              "model_id": "76b9c69ffbe94129bdce16c737ee3b1d"
            }
          },
          "metadata": {}
        },
        {
          "output_type": "display_data",
          "data": {
            "text/plain": [
              "<IPython.core.display.HTML object>"
            ],
            "text/html": [
              "\n",
              "<style>\n",
              "    /* Turns off some styling */\n",
              "    progress {\n",
              "        /* gets rid of default border in Firefox and Opera. */\n",
              "        border: none;\n",
              "        /* Needs to be in here for Safari polyfill so background images work as expected. */\n",
              "        background-size: auto;\n",
              "    }\n",
              "    progress:not([value]), progress:not([value])::-webkit-progress-bar {\n",
              "        background: repeating-linear-gradient(45deg, #7e7e7e, #7e7e7e 10px, #5c5c5c 10px, #5c5c5c 20px);\n",
              "    }\n",
              "    .progress-bar-interrupted, .progress-bar-interrupted::-webkit-progress-bar {\n",
              "        background: #F44336;\n",
              "    }\n",
              "</style>\n"
            ]
          },
          "metadata": {}
        },
        {
          "output_type": "display_data",
          "data": {
            "text/plain": [
              "<IPython.core.display.HTML object>"
            ],
            "text/html": []
          },
          "metadata": {}
        },
        {
          "output_type": "display_data",
          "data": {
            "text/plain": [
              "<IPython.core.display.HTML object>"
            ],
            "text/html": [
              "\n",
              "<style>\n",
              "    /* Turns off some styling */\n",
              "    progress {\n",
              "        /* gets rid of default border in Firefox and Opera. */\n",
              "        border: none;\n",
              "        /* Needs to be in here for Safari polyfill so background images work as expected. */\n",
              "        background-size: auto;\n",
              "    }\n",
              "    progress:not([value]), progress:not([value])::-webkit-progress-bar {\n",
              "        background: repeating-linear-gradient(45deg, #7e7e7e, #7e7e7e 10px, #5c5c5c 10px, #5c5c5c 20px);\n",
              "    }\n",
              "    .progress-bar-interrupted, .progress-bar-interrupted::-webkit-progress-bar {\n",
              "        background: #F44336;\n",
              "    }\n",
              "</style>\n"
            ]
          },
          "metadata": {}
        },
        {
          "output_type": "display_data",
          "data": {
            "text/plain": [
              "<IPython.core.display.HTML object>"
            ],
            "text/html": []
          },
          "metadata": {}
        }
      ]
    }
  ]
}